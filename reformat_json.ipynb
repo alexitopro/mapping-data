{
 "cells": [
  {
   "cell_type": "code",
   "execution_count": null,
   "metadata": {},
   "outputs": [],
   "source": [
    "import pandas as pd\n",
    "df = pd.read_csv(\"sample_data/wine-ratings-small.csv\", index_col=0)"
   ]
  },
  {
   "cell_type": "code",
   "execution_count": 16,
   "metadata": {},
   "outputs": [],
   "source": [
    "#check if it contains White or Red \n",
    "#case=False parameter makes search case-insensitive\n",
    "#na=False handles any potential NaN values in the variety column\n",
    "subset_variety = df.loc[df['variety'].str.contains('white|red', case = False, na = False)]"
   ]
  },
  {
   "cell_type": "code",
   "execution_count": 17,
   "metadata": {},
   "outputs": [],
   "source": [
    "#get rows with wine score range between 90 to 92 points, then sort ascending\n",
    "subset_range = df.loc[df['rating'].between(90, 92)]\n",
    "subset_range_sorted = subset_range.sort_values(by = 'rating', ascending = True)"
   ]
  },
  {
   "cell_type": "code",
   "execution_count": 18,
   "metadata": {},
   "outputs": [],
   "source": [
    "#removing duplicate values and using distinct field to retrieve unique variety\n",
    "subset_region = df['region'].unique()"
   ]
  },
  {
   "cell_type": "code",
   "execution_count": 30,
   "metadata": {},
   "outputs": [],
   "source": [
    "#save subset to json (before dumping data, change type dataframe to json)\n",
    "import json\n",
    "with open('subset_variety.json', 'w') as f:\n",
    "    json.dump(subset_variety.to_json(), f)\n",
    "with open('subset_range_sorted.json', 'w') as f:\n",
    "    json.dump(subset_range_sorted.to_json(), f)\n",
    "#for array, we have to change it to python list before dumping\n",
    "with open('subset_region.json', 'w') as f:\n",
    "    json.dump(subset_region.tolist(), f)"
   ]
  },
  {
   "cell_type": "code",
   "execution_count": null,
   "metadata": {},
   "outputs": [],
   "source": [
    "#revise if data was successfully saved\n",
    "with open('subset_variety.json') as f:\n",
    "    loaded_json = json.load(f)\n",
    "loaded_json"
   ]
  },
  {
   "cell_type": "code",
   "execution_count": null,
   "metadata": {},
   "outputs": [],
   "source": [
    "with open('subset_region.json') as f:\n",
    "    loaded_json = json.load(f)\n",
    "loaded_json"
   ]
  }
 ],
 "metadata": {
  "kernelspec": {
   "display_name": "Python 3",
   "language": "python",
   "name": "python3"
  },
  "language_info": {
   "codemirror_mode": {
    "name": "ipython",
    "version": 3
   },
   "file_extension": ".py",
   "mimetype": "text/x-python",
   "name": "python",
   "nbconvert_exporter": "python",
   "pygments_lexer": "ipython3",
   "version": "3.11.1"
  }
 },
 "nbformat": 4,
 "nbformat_minor": 2
}
